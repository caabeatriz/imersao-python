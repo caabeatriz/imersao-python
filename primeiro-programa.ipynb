{
 "cells": [
  {
   "cell_type": "code",
   "execution_count": 7,
   "id": "8d2ead51",
   "metadata": {},
   "outputs": [
    {
     "name": "stdout",
     "output_type": "stream",
     "text": [
      "Requirement already satisfied: fpdf in /Users/carolsilva/anaconda3/lib/python3.10/site-packages (1.7.2)\r\n"
     ]
    }
   ],
   "source": [
    "!pip install fpdf"
   ]
  },
  {
   "cell_type": "code",
   "execution_count": 8,
   "id": "b437f13f",
   "metadata": {},
   "outputs": [],
   "source": [
    "from fpdf import FPDF"
   ]
  },
  {
   "cell_type": "code",
   "execution_count": 9,
   "id": "ca663478",
   "metadata": {},
   "outputs": [],
   "source": [
    "pdf = FPDF()"
   ]
  },
  {
   "cell_type": "code",
   "execution_count": 10,
   "id": "e9b51ec7",
   "metadata": {},
   "outputs": [
    {
     "name": "stdout",
     "output_type": "stream",
     "text": [
      "digite a descrição do projeto\"TESTS\"\n"
     ]
    }
   ],
   "source": [
    "projeto = input(\"digite a descrição do projeto\")"
   ]
  },
  {
   "cell_type": "code",
   "execution_count": 12,
   "id": "18e2daf3",
   "metadata": {},
   "outputs": [
    {
     "name": "stdout",
     "output_type": "stream",
     "text": [
      "digite o total de horas estimadas4\n",
      "digite o valor da hora trabalhada4\n"
     ]
    }
   ],
   "source": [
    "horasEstimadas = input(\"digite o total de horas estimadas\")\n",
    "valorHora = input(\"digite o valor da hora trabalhada\")"
   ]
  },
  {
   "cell_type": "code",
   "execution_count": 17,
   "id": "90089ffd",
   "metadata": {},
   "outputs": [
    {
     "name": "stdout",
     "output_type": "stream",
     "text": [
      "orçamento gerado com sucesso\n"
     ]
    }
   ],
   "source": [
    "\n",
    "\n",
    "pdf = FPDF()\n",
    "pdf.add_page()\n",
    "pdf.set_font(\"Arial\")\n",
    "pdf.image(\"template.png\", x=0, y=0)\n",
    "\n",
    "pdf.text(115, 145, projeto)\n",
    "pdf.text(115, 160, horasEstimadas)\n",
    "pdf.text(115, 175, valorHora)\n",
    "\n",
    "pdf.output(\"Orçamento.pdf\")\n",
    "print(\"orçamento gerado com sucesso\")"
   ]
  },
  {
   "cell_type": "code",
   "execution_count": null,
   "id": "4f85deba",
   "metadata": {},
   "outputs": [],
   "source": []
  },
  {
   "cell_type": "code",
   "execution_count": null,
   "id": "16efe412",
   "metadata": {},
   "outputs": [],
   "source": []
  },
  {
   "cell_type": "code",
   "execution_count": null,
   "id": "e4e84ab0",
   "metadata": {},
   "outputs": [],
   "source": []
  }
 ],
 "metadata": {
  "kernelspec": {
   "display_name": "Python 3 (ipykernel)",
   "language": "python",
   "name": "python3"
  },
  "language_info": {
   "codemirror_mode": {
    "name": "ipython",
    "version": 3
   },
   "file_extension": ".py",
   "mimetype": "text/x-python",
   "name": "python",
   "nbconvert_exporter": "python",
   "pygments_lexer": "ipython3",
   "version": "3.10.9"
  }
 },
 "nbformat": 4,
 "nbformat_minor": 5
}
